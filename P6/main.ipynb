{
 "cells": [
  {
   "cell_type": "code",
   "execution_count": 3,
   "metadata": {
    "collapsed": true
   },
   "outputs": [
    {
     "name": "stdout",
     "output_type": "stream",
     "text": [
      "李婉 女\n"
     ]
    }
   ],
   "source": [
    "class Information():\n",
    "    def __init__(self,name,sex):\n",
    "        self.name=name\n",
    "        self.sex=sex\n",
    "\n",
    "information=Information('李婉','女')\n",
    "print(information.name,information.sex)\n"
   ]
  },
  {
   "cell_type": "code",
   "execution_count": 1,
   "outputs": [
    {
     "name": "stdout",
     "output_type": "stream",
     "text": [
      "2\n"
     ]
    }
   ],
   "source": [
    "# 垃圾回收机制\n",
    "\n",
    "import sys\n",
    "class Destruction:\n",
    "    def __del__(self):\n",
    "        print('对象被释放')\n",
    "\n",
    "destruction=Destruction()\n",
    "print(sys.getrefcount(destruction))"
   ],
   "metadata": {
    "collapsed": false,
    "pycharm": {
     "name": "#%%\n"
    }
   }
  },
  {
   "cell_type": "code",
   "execution_count": 2,
   "outputs": [
    {
     "name": "stdout",
     "output_type": "stream",
     "text": [
      "体重:55kg\n",
      "我的体重是：55\n"
     ]
    }
   ],
   "source": [
    "# 私有成员的访问\n",
    "\n",
    "class PersonInfo:\n",
    "    __weight=55\n",
    "    def __info(self):\n",
    "        print(f'我的体重是：{self.__weight}')\n",
    "\n",
    "    def get_weight(self):\n",
    "        print(f'体重:{self.__weight}kg')\n",
    "        self.__info()\n",
    "\n",
    "\n",
    "person=PersonInfo()\n",
    "person.get_weight()"
   ],
   "metadata": {
    "collapsed": false,
    "pycharm": {
     "name": "#%%\n"
    }
   }
  }
 ],
 "metadata": {
  "kernelspec": {
   "display_name": "Python 3",
   "language": "python",
   "name": "python3"
  },
  "language_info": {
   "codemirror_mode": {
    "name": "ipython",
    "version": 2
   },
   "file_extension": ".py",
   "mimetype": "text/x-python",
   "name": "python",
   "nbconvert_exporter": "python",
   "pygments_lexer": "ipython2",
   "version": "2.7.6"
  }
 },
 "nbformat": 4,
 "nbformat_minor": 0
}