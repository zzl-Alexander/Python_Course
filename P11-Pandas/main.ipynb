{
 "cells": [
  {
   "cell_type": "markdown",
   "metadata": {
    "collapsed": true,
    "pycharm": {
     "name": "#%% md\n"
    }
   },
   "source": [
    "# Pandas数据结构"
   ]
  },
  {
   "cell_type": "code",
   "execution_count": 2,
   "outputs": [
    {
     "data": {
      "text/plain": "0    1\n1    2\n2    3\n3    4\ndtype: int64"
     },
     "execution_count": 2,
     "metadata": {},
     "output_type": "execute_result"
    }
   ],
   "source": [
    "from pandas import Series\n",
    "pds1=Series([1,2,3,4])\n",
    "pds1"
   ],
   "metadata": {
    "collapsed": false,
    "pycharm": {
     "name": "#%%\n"
    }
   }
  },
  {
   "cell_type": "code",
   "execution_count": 4,
   "outputs": [
    {
     "data": {
      "text/plain": "a    1\nb    2\nc    3\nd    4\ndtype: int64"
     },
     "execution_count": 4,
     "metadata": {},
     "output_type": "execute_result"
    }
   ],
   "source": [
    "pds2=Series([1,2,3,4],index=['a','b','c','d'])\n",
    "pds2"
   ],
   "metadata": {
    "collapsed": false,
    "pycharm": {
     "name": "#%%\n"
    }
   }
  },
  {
   "cell_type": "markdown",
   "source": [
    "通过字典方式创建<br>\n",
    "由于字典是无序的，因此指定索引排列顺序<br>\n",
    "这里的索引要和data字典的key对应上"
   ],
   "metadata": {
    "collapsed": false,
    "pycharm": {
     "name": "#%% md\n"
    }
   }
  },
  {
   "cell_type": "code",
   "execution_count": 7,
   "outputs": [
    {
     "data": {
      "text/plain": "i1    1\ni2    2\ni3    3\ni4    4\ndtype: int64"
     },
     "execution_count": 7,
     "metadata": {},
     "output_type": "execute_result"
    }
   ],
   "source": [
    "data={'i1':1,'i2':2,'i3':3,'i4':4}\n",
    "pds3=Series(data,index=['i1','i2','i3','i4'])\n",
    "pds3"
   ],
   "metadata": {
    "collapsed": false,
    "pycharm": {
     "name": "#%%\n"
    }
   }
  },
  {
   "cell_type": "code",
   "execution_count": 12,
   "outputs": [
    {
     "data": {
      "text/plain": "  name sex  aged\n0  王晓明   男    20\n1   李静   女    19\n2   田海   男    21",
      "text/html": "<div>\n<style scoped>\n    .dataframe tbody tr th:only-of-type {\n        vertical-align: middle;\n    }\n\n    .dataframe tbody tr th {\n        vertical-align: top;\n    }\n\n    .dataframe thead th {\n        text-align: right;\n    }\n</style>\n<table border=\"1\" class=\"dataframe\">\n  <thead>\n    <tr style=\"text-align: right;\">\n      <th></th>\n      <th>name</th>\n      <th>sex</th>\n      <th>aged</th>\n    </tr>\n  </thead>\n  <tbody>\n    <tr>\n      <th>0</th>\n      <td>王晓明</td>\n      <td>男</td>\n      <td>20</td>\n    </tr>\n    <tr>\n      <th>1</th>\n      <td>李静</td>\n      <td>女</td>\n      <td>19</td>\n    </tr>\n    <tr>\n      <th>2</th>\n      <td>田海</td>\n      <td>男</td>\n      <td>21</td>\n    </tr>\n  </tbody>\n</table>\n</div>"
     },
     "execution_count": 12,
     "metadata": {},
     "output_type": "execute_result"
    }
   ],
   "source": [
    "from pandas import DataFrame\n",
    "data = { \"name\":[\"王晓明\",\"李静\",\"田海\"],\"sex\":[\"男\",\"女\",\"男\"],\"aged\":[20,19,21]}\n",
    "#字典是无序的，因此需要通过columns指定列索引的排列顺序\n",
    "df = DataFrame(data,columns=['name','sex','aged']) #这里的列要和data字典的key对应\n",
    "df"
   ],
   "metadata": {
    "collapsed": false,
    "pycharm": {
     "name": "#%%\n"
    }
   }
  },
  {
   "cell_type": "markdown",
   "source": [
    "# pandas的索引操作"
   ],
   "metadata": {
    "collapsed": false,
    "pycharm": {
     "name": "#%% md\n"
    }
   }
  },
  {
   "cell_type": "code",
   "execution_count": 18,
   "outputs": [
    {
     "name": "stdout",
     "output_type": "stream",
     "text": [
      "a    10.0\n",
      "b    20.0\n",
      "c    30.0\n",
      "d    40.0\n",
      "e   -10.0\n",
      "dtype: float64\n",
      "\n",
      "\n",
      "b    20.0\n",
      "c    30.0\n",
      "a    10.0\n",
      "d    40.0\n",
      "e   -10.0\n",
      "n     NaN\n",
      "dtype: float64\n"
     ]
    }
   ],
   "source": [
    "import numpy as np\n",
    "obj = Series([10,20,30,40,-10],index = [\"a\",\"b\",\"c\",\"d\",\"e\"],dtype=np.float64)\n",
    "print(obj)\n",
    "\n",
    "print('\\n')\n",
    "obj1 = obj.reindex(index = [\"b\",\"c\",\"a\",\"d\",\"e\",\"n\"])\n",
    "print(obj1)"
   ],
   "metadata": {
    "collapsed": false,
    "pycharm": {
     "name": "#%%\n"
    }
   }
  },
  {
   "cell_type": "code",
   "execution_count": 20,
   "outputs": [
    {
     "name": "stdout",
     "output_type": "stream",
     "text": [
      "    id1  id2  id3\n",
      "L1    0    1    2\n",
      "L2    3    4    5\n",
      "L3    6    7    8\n",
      "    id1  id2  id3\n",
      "L1    0    1    2\n",
      "L2    3    4    5\n",
      "L3    6    7    8\n",
      "L4    9    9    9\n"
     ]
    }
   ],
   "source": [
    "df=DataFrame(np.arange(9).reshape(3,3),index=['L1','L2','L3'],columns=['id1','id2','id3'])\n",
    "print(df)\n",
    "#对df重新索引，新增的L4行标签对应的缺失值通过fill_value参数指定为9\n",
    "df1=df.reindex(index=['L1','L2','L3','L4'],fill_value=9)\n",
    "print(df1)"
   ],
   "metadata": {
    "collapsed": false,
    "pycharm": {
     "name": "#%%\n"
    }
   }
  },
  {
   "cell_type": "code",
   "execution_count": 26,
   "outputs": [
    {
     "data": {
      "text/plain": "     sex  aged  score\nname                 \n张三     男    20     80\n李四     女    19     60\n王五     女    20     70\n赵六     男    21     90",
      "text/html": "<div>\n<style scoped>\n    .dataframe tbody tr th:only-of-type {\n        vertical-align: middle;\n    }\n\n    .dataframe tbody tr th {\n        vertical-align: top;\n    }\n\n    .dataframe thead th {\n        text-align: right;\n    }\n</style>\n<table border=\"1\" class=\"dataframe\">\n  <thead>\n    <tr style=\"text-align: right;\">\n      <th></th>\n      <th>sex</th>\n      <th>aged</th>\n      <th>score</th>\n    </tr>\n    <tr>\n      <th>name</th>\n      <th></th>\n      <th></th>\n      <th></th>\n    </tr>\n  </thead>\n  <tbody>\n    <tr>\n      <th>张三</th>\n      <td>男</td>\n      <td>20</td>\n      <td>80</td>\n    </tr>\n    <tr>\n      <th>李四</th>\n      <td>女</td>\n      <td>19</td>\n      <td>60</td>\n    </tr>\n    <tr>\n      <th>王五</th>\n      <td>女</td>\n      <td>20</td>\n      <td>70</td>\n    </tr>\n    <tr>\n      <th>赵六</th>\n      <td>男</td>\n      <td>21</td>\n      <td>90</td>\n    </tr>\n  </tbody>\n</table>\n</div>"
     },
     "execution_count": 26,
     "metadata": {},
     "output_type": "execute_result"
    }
   ],
   "source": [
    "data = {\"name\":(\"张三\",\"李四\",\"王五\",\"赵六\"),\"sex\":(\"男\",\"女\",\"女\",\"男\"),\"aged\":(20,19,20,21),\"score\":(80,60,70,90)}\n",
    "df=DataFrame(data)\n",
    "df1=df.set_index(\"name\")\n",
    "df1"
   ],
   "metadata": {
    "collapsed": false,
    "pycharm": {
     "name": "#%%\n"
    }
   }
  },
  {
   "cell_type": "markdown",
   "source": [
    "# 数据选择\n"
   ],
   "metadata": {
    "collapsed": false,
    "pycharm": {
     "name": "#%% md\n"
    }
   }
  },
  {
   "cell_type": "code",
   "execution_count": 29,
   "outputs": [
    {
     "name": "stdout",
     "output_type": "stream",
     "text": [
      "Index(['a', 'b', 'c', 'd'], dtype='object')\n",
      "[1 2 3 4]\n",
      "3\n",
      "2\n"
     ]
    }
   ],
   "source": [
    "pd=Series([1,2,3,4],index=['a','b','c','d'])\n",
    "print(pd.index)\n",
    "print(pd.values)\n",
    "\n",
    "# 切片\n",
    "# 下标方式索引\n",
    "print(pd[2])\n",
    "\n",
    "# 标签方式索引\n",
    "print(pd['b'])"
   ],
   "metadata": {
    "collapsed": false,
    "pycharm": {
     "name": "#%%\n"
    }
   }
  },
  {
   "cell_type": "markdown",
   "source": [
    "Series对象还支持位置切片和标签切片。<br>\n",
    "位置切片遵循Python的切片规则，包括起始位置，但不包括结束位置；<br>\n",
    "但标签切片则同时包括起始标签和结束标签。\n"
   ],
   "metadata": {
    "collapsed": false,
    "pycharm": {
     "name": "#%% md\n"
    }
   }
  },
  {
   "cell_type": "code",
   "execution_count": 31,
   "outputs": [
    {
     "name": "stdout",
     "output_type": "stream",
     "text": [
      "a    1\n",
      "b    2\n",
      "dtype: int64\n",
      "a    1\n",
      "b    2\n",
      "c    3\n",
      "dtype: int64\n"
     ]
    }
   ],
   "source": [
    "pd=Series([1,2,3,4],index=['a','b','c','d'])\n",
    "\n",
    "print(pd[0:2])\n",
    "print(pd['a':'c'])"
   ],
   "metadata": {
    "collapsed": false,
    "pycharm": {
     "name": "#%%\n"
    }
   }
  },
  {
   "cell_type": "code",
   "execution_count": 49,
   "outputs": [
    {
     "name": "stdout",
     "output_type": "stream",
     "text": [
      "0    张三\n",
      "1    李四\n",
      "2    王五\n",
      "3    赵六\n",
      "Name: name, dtype: object\n",
      "  name sex\n",
      "0   张三   男\n",
      "1   李四   女\n",
      "2   王五   女\n",
      "3   赵六   男\n",
      "\n",
      "\n",
      "\n",
      "     sex  aged  score\n",
      "name                 \n",
      "张三     男    20     80\n",
      "李四     女    19     60\n",
      "     sex  aged  score\n",
      "name                 \n",
      "张三     男    20     80\n",
      "李四     女    19     60\n",
      "王五     女    20     70\n",
      "\n",
      "\n",
      "\n",
      "     sex  aged  score\n",
      "name                 \n",
      "张三     男    20     80\n",
      "王五     女    20     70\n",
      "     sex  aged  score\n",
      "name                 \n",
      "张三     男    20     80\n",
      "王五     女    20     70\n",
      "\n",
      "\n",
      "\n",
      "男\n",
      "男\n",
      "\n",
      "\n",
      "\n"
     ]
    },
    {
     "data": {
      "text/plain": "name\n张三    False\n李四     True\n王五     True\n赵六    False\nName: sex, dtype: bool"
     },
     "execution_count": 49,
     "metadata": {},
     "output_type": "execute_result"
    }
   ],
   "source": [
    "data = {\"name\":(\"张三\",\"李四\",\"王五\",\"赵六\"),\"sex\":(\"男\",\"女\",\"女\",\"男\"),\"aged\":(20,19,20,21),\"score\":(80,60,70,90)}\n",
    "df=DataFrame(data)\n",
    "df1=df.set_index(\"name\")\n",
    "# 选取列\n",
    "print(df['name'])  #选取name列，也可以使用df.name，返回一个Series对象,等价于df.name\n",
    "\n",
    "print(df[['name','sex']]) # 选取name、sex列，返回一个DataFrame对象\n",
    "print('\\n\\n')\n",
    "# 选取行\n",
    "\n",
    "print(df1[0:2])\n",
    "print(df1[\"张三\":\"王五\"])\n",
    "print('\\n\\n')\n",
    "# 如果要选取单独的几行，可以通过loc属性和iloc属性来实现。loc属性是按照行索引标签选取数据，iloc属性是按照行索引位置选取数据。\n",
    "print(df1.iloc[[0,2]])\n",
    "print(df1.loc[['张三','王五']])\n",
    "\n",
    "print('\\n\\n')\n",
    "# 选取行、列\n",
    "print(df1.at['张三','sex'])\n",
    "print(df1.iat[0,0])"
   ],
   "metadata": {
    "collapsed": false,
    "pycharm": {
     "name": "#%%\n"
    }
   }
  },
  {
   "cell_type": "code",
   "execution_count": 58,
   "outputs": [
    {
     "name": "stdout",
     "output_type": "stream",
     "text": [
      "name\n",
      "张三    False\n",
      "李四     True\n",
      "王五     True\n",
      "赵六    False\n",
      "Name: sex, dtype: bool\n",
      "\n",
      "\n",
      "\n",
      "     sex  aged  score\n",
      "name                 \n",
      "李四     女    19     60\n",
      "王五     女    20     70\n",
      "\n",
      "\n",
      "\n",
      "     sex  aged  score\n",
      "name                 \n",
      "王五     女    20     70\n"
     ]
    }
   ],
   "source": [
    "data = {\"name\":(\"张三\",\"李四\",\"王五\",\"赵六\"),\"sex\":(\"男\",\"女\",\"女\",\"男\"),\"aged\":(20,19,20,21),\"score\":(80,60,70,90)}\n",
    "df=DataFrame(data)\n",
    "df1=df.set_index(\"name\")\n",
    "# 布尔选择\n",
    "print(df1['sex']=='女')\n",
    "print('\\n\\n')\n",
    "print(df1[df1['sex']=='女'])\n",
    "\n",
    "print('\\n\\n')\n",
    "print(df1[(df1['sex']=='女')&(df1['score']>60)])"
   ],
   "metadata": {
    "collapsed": false,
    "pycharm": {
     "name": "#%%\n"
    }
   }
  },
  {
   "cell_type": "code",
   "execution_count": 60,
   "outputs": [
    {
     "data": {
      "text/plain": "  name sex  aged  score\n0   张三   男    20     80\n1   李四   女    19     60\n2   王五   女    20     70\n3   赵六   男    21     90\n4   朱八   男    23     65",
      "text/html": "<div>\n<style scoped>\n    .dataframe tbody tr th:only-of-type {\n        vertical-align: middle;\n    }\n\n    .dataframe tbody tr th {\n        vertical-align: top;\n    }\n\n    .dataframe thead th {\n        text-align: right;\n    }\n</style>\n<table border=\"1\" class=\"dataframe\">\n  <thead>\n    <tr style=\"text-align: right;\">\n      <th></th>\n      <th>name</th>\n      <th>sex</th>\n      <th>aged</th>\n      <th>score</th>\n    </tr>\n  </thead>\n  <tbody>\n    <tr>\n      <th>0</th>\n      <td>张三</td>\n      <td>男</td>\n      <td>20</td>\n      <td>80</td>\n    </tr>\n    <tr>\n      <th>1</th>\n      <td>李四</td>\n      <td>女</td>\n      <td>19</td>\n      <td>60</td>\n    </tr>\n    <tr>\n      <th>2</th>\n      <td>王五</td>\n      <td>女</td>\n      <td>20</td>\n      <td>70</td>\n    </tr>\n    <tr>\n      <th>3</th>\n      <td>赵六</td>\n      <td>男</td>\n      <td>21</td>\n      <td>90</td>\n    </tr>\n    <tr>\n      <th>4</th>\n      <td>朱八</td>\n      <td>男</td>\n      <td>23</td>\n      <td>65</td>\n    </tr>\n  </tbody>\n</table>\n</div>"
     },
     "execution_count": 60,
     "metadata": {},
     "output_type": "execute_result"
    }
   ],
   "source": [
    "# 增加行\n",
    "data = {\"name\":(\"张三\",\"李四\",\"王五\",\"赵六\"),\"sex\":(\"男\",\"女\",\"女\",\"男\"),\"aged\":(20,19,20,21),\"score\":(80,60,70,90)}\n",
    "df=DataFrame(data)\n",
    "append_data = {\n",
    "    \"name\":\"朱八\",\n",
    "    \"sex\":\"男\",\n",
    "    \"aged\":23,\n",
    "    \"score\":65\n",
    "}\n",
    "new_df = df.append(append_data,ignore_index = True)\n",
    "new_df"
   ],
   "metadata": {
    "collapsed": false,
    "pycharm": {
     "name": "#%%\n"
    }
   }
  },
  {
   "cell_type": "code",
   "execution_count": 62,
   "outputs": [
    {
     "data": {
      "text/plain": "  name sex  aged  score city\n0   张三   男    20     80   北京\n1   李四   女    19     60   西安\n2   王五   女    20     70   长春\n3   赵六   男    21     90   珠海\n4   朱八   男    23     65   昆明",
      "text/html": "<div>\n<style scoped>\n    .dataframe tbody tr th:only-of-type {\n        vertical-align: middle;\n    }\n\n    .dataframe tbody tr th {\n        vertical-align: top;\n    }\n\n    .dataframe thead th {\n        text-align: right;\n    }\n</style>\n<table border=\"1\" class=\"dataframe\">\n  <thead>\n    <tr style=\"text-align: right;\">\n      <th></th>\n      <th>name</th>\n      <th>sex</th>\n      <th>aged</th>\n      <th>score</th>\n      <th>city</th>\n    </tr>\n  </thead>\n  <tbody>\n    <tr>\n      <th>0</th>\n      <td>张三</td>\n      <td>男</td>\n      <td>20</td>\n      <td>80</td>\n      <td>北京</td>\n    </tr>\n    <tr>\n      <th>1</th>\n      <td>李四</td>\n      <td>女</td>\n      <td>19</td>\n      <td>60</td>\n      <td>西安</td>\n    </tr>\n    <tr>\n      <th>2</th>\n      <td>王五</td>\n      <td>女</td>\n      <td>20</td>\n      <td>70</td>\n      <td>长春</td>\n    </tr>\n    <tr>\n      <th>3</th>\n      <td>赵六</td>\n      <td>男</td>\n      <td>21</td>\n      <td>90</td>\n      <td>珠海</td>\n    </tr>\n    <tr>\n      <th>4</th>\n      <td>朱八</td>\n      <td>男</td>\n      <td>23</td>\n      <td>65</td>\n      <td>昆明</td>\n    </tr>\n  </tbody>\n</table>\n</div>"
     },
     "execution_count": 62,
     "metadata": {},
     "output_type": "execute_result"
    }
   ],
   "source": [
    "# 增加列\n",
    "new_df[\"city\"] = [\"北京\",\"西安\",\"长春\",\"珠海\",\"昆明\"]\n",
    "new_df"
   ],
   "metadata": {
    "collapsed": false,
    "pycharm": {
     "name": "#%%\n"
    }
   }
  },
  {
   "cell_type": "code",
   "execution_count": 64,
   "outputs": [
    {
     "data": {
      "text/plain": "  name sex  aged  score city\n0   张三   男    20     80   北京\n1   李四   女    19     60   西安\n3   赵六   男    21     90   珠海\n4   朱八   男    23     65   昆明",
      "text/html": "<div>\n<style scoped>\n    .dataframe tbody tr th:only-of-type {\n        vertical-align: middle;\n    }\n\n    .dataframe tbody tr th {\n        vertical-align: top;\n    }\n\n    .dataframe thead th {\n        text-align: right;\n    }\n</style>\n<table border=\"1\" class=\"dataframe\">\n  <thead>\n    <tr style=\"text-align: right;\">\n      <th></th>\n      <th>name</th>\n      <th>sex</th>\n      <th>aged</th>\n      <th>score</th>\n      <th>city</th>\n    </tr>\n  </thead>\n  <tbody>\n    <tr>\n      <th>0</th>\n      <td>张三</td>\n      <td>男</td>\n      <td>20</td>\n      <td>80</td>\n      <td>北京</td>\n    </tr>\n    <tr>\n      <th>1</th>\n      <td>李四</td>\n      <td>女</td>\n      <td>19</td>\n      <td>60</td>\n      <td>西安</td>\n    </tr>\n    <tr>\n      <th>3</th>\n      <td>赵六</td>\n      <td>男</td>\n      <td>21</td>\n      <td>90</td>\n      <td>珠海</td>\n    </tr>\n    <tr>\n      <th>4</th>\n      <td>朱八</td>\n      <td>男</td>\n      <td>23</td>\n      <td>65</td>\n      <td>昆明</td>\n    </tr>\n  </tbody>\n</table>\n</div>"
     },
     "execution_count": 64,
     "metadata": {},
     "output_type": "execute_result"
    }
   ],
   "source": [
    "# 删除\n",
    "new_df.drop(2)"
   ],
   "metadata": {
    "collapsed": false,
    "pycharm": {
     "name": "#%%\n"
    }
   }
  },
  {
   "cell_type": "code",
   "execution_count": 66,
   "outputs": [
    {
     "data": {
      "text/plain": "  name sex  aged  grade city\n0   张三   男    20     80   北京\n1   李四   女    19     60   西安\n2   王五   女    20     70   长春\n2   赵六   男    21     90   珠海\n3   朱八   男    23     65   昆明",
      "text/html": "<div>\n<style scoped>\n    .dataframe tbody tr th:only-of-type {\n        vertical-align: middle;\n    }\n\n    .dataframe tbody tr th {\n        vertical-align: top;\n    }\n\n    .dataframe thead th {\n        text-align: right;\n    }\n</style>\n<table border=\"1\" class=\"dataframe\">\n  <thead>\n    <tr style=\"text-align: right;\">\n      <th></th>\n      <th>name</th>\n      <th>sex</th>\n      <th>aged</th>\n      <th>grade</th>\n      <th>city</th>\n    </tr>\n  </thead>\n  <tbody>\n    <tr>\n      <th>0</th>\n      <td>张三</td>\n      <td>男</td>\n      <td>20</td>\n      <td>80</td>\n      <td>北京</td>\n    </tr>\n    <tr>\n      <th>1</th>\n      <td>李四</td>\n      <td>女</td>\n      <td>19</td>\n      <td>60</td>\n      <td>西安</td>\n    </tr>\n    <tr>\n      <th>2</th>\n      <td>王五</td>\n      <td>女</td>\n      <td>20</td>\n      <td>70</td>\n      <td>长春</td>\n    </tr>\n    <tr>\n      <th>2</th>\n      <td>赵六</td>\n      <td>男</td>\n      <td>21</td>\n      <td>90</td>\n      <td>珠海</td>\n    </tr>\n    <tr>\n      <th>3</th>\n      <td>朱八</td>\n      <td>男</td>\n      <td>23</td>\n      <td>65</td>\n      <td>昆明</td>\n    </tr>\n  </tbody>\n</table>\n</div>"
     },
     "execution_count": 66,
     "metadata": {},
     "output_type": "execute_result"
    }
   ],
   "source": [
    "# 修改标签\n",
    "new_df.rename(index={3:2,4:3},columns={'score':'grade'})"
   ],
   "metadata": {
    "collapsed": false,
    "pycharm": {
     "name": "#%%\n"
    }
   }
  },
  {
   "cell_type": "markdown",
   "source": [
    "# 数据运算"
   ],
   "metadata": {
    "collapsed": false,
    "pycharm": {
     "name": "#%% md\n"
    }
   }
  },
  {
   "cell_type": "code",
   "execution_count": null,
   "outputs": [],
   "source": [],
   "metadata": {
    "collapsed": false,
    "pycharm": {
     "name": "#%%\n"
    }
   }
  }
 ],
 "metadata": {
  "kernelspec": {
   "display_name": "Python 3",
   "language": "python",
   "name": "python3"
  },
  "language_info": {
   "codemirror_mode": {
    "name": "ipython",
    "version": 2
   },
   "file_extension": ".py",
   "mimetype": "text/x-python",
   "name": "python",
   "nbconvert_exporter": "python",
   "pygments_lexer": "ipython2",
   "version": "2.7.6"
  }
 },
 "nbformat": 4,
 "nbformat_minor": 0
}