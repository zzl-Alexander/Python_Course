{
 "cells": [
  {
   "cell_type": "markdown",
   "metadata": {
    "collapsed": true,
    "pycharm": {
     "name": "#%% md\n"
    }
   },
   "source": [
    "Tkinter GUI 程序的基本结构通常包含下面几个部分：\n",
    "\n",
    "     －导入tkinter 模块。\n",
    "     －创建主窗口：所有组件默认情况下都以主窗口作为容器。\n",
    "     －创建组件实例：调用组件类创建组件实例时，第一个参数指明了主窗口。\n",
    "     －打包组件：打包的组件可以显示在窗口中，否则不会显示。\n",
    "     －开始事件循环：开始事件循环后，窗口等待响应用户操作。"
   ]
  },
  {
   "cell_type": "code",
   "execution_count": 3,
   "outputs": [],
   "source": [
    "from tkinter import *\n",
    "Label(text='你好，Python! ').pack()\n",
    "mainloop()"
   ],
   "metadata": {
    "collapsed": false,
    "pycharm": {
     "name": "#%%\n"
    }
   }
  },
  {
   "cell_type": "code",
   "execution_count": 1,
   "outputs": [],
   "source": [
    "from tkinter import *\n",
    "root=Tk()\n",
    "root.title('新的标题')\n",
    "w=Label(root)\n",
    "w['text']='Hello Python!'\n",
    "w.pack()\n",
    "root.mainloop()"
   ],
   "metadata": {
    "collapsed": false,
    "pycharm": {
     "name": "#%%\n"
    }
   }
  },
  {
   "cell_type": "code",
   "execution_count": 6,
   "outputs": [],
   "source": [
    "from tkinter import *\n",
    "label1=Label(text='标签1')\n",
    "label1.config(fg='white',bg='black')\n",
    "label2=Label(text='标签2')\n",
    "label2.config(fg='red',bg='yellow')\n",
    "label3=Label(text='标签3')\n",
    "label3.config(fg='white',bg='green')\n",
    "\n",
    "label1.pack()\n",
    "label2.pack()\n",
    "label3.pack()\n",
    "mainloop()"
   ],
   "metadata": {
    "collapsed": false,
    "pycharm": {
     "name": "#%%\n"
    }
   }
  },
  {
   "cell_type": "code",
   "execution_count": 7,
   "outputs": [],
   "source": [
    "\n",
    "from tkinter import *\n",
    "label1=Label(text='标签1')\n",
    "label1.config(fg='white',bg='black')\n",
    "label2=Label(text='标签2')\n",
    "label2.config(fg='red',bg='yellow')\n",
    "label3=Label(text='标签3')\n",
    "label3.config(fg='white',bg='green')\n",
    "\n",
    "label1.grid(row=0,column=3)\n",
    "label2.grid(row=1,column=2)\n",
    "label3.grid(row=1,column=1)\n",
    "mainloop()\n"
   ],
   "metadata": {
    "collapsed": false,
    "pycharm": {
     "name": "#%%\n"
    }
   }
  }
 ],
 "metadata": {
  "kernelspec": {
   "display_name": "Python 3",
   "language": "python",
   "name": "python3"
  },
  "language_info": {
   "codemirror_mode": {
    "name": "ipython",
    "version": 2
   },
   "file_extension": ".py",
   "mimetype": "text/x-python",
   "name": "python",
   "nbconvert_exporter": "python",
   "pygments_lexer": "ipython2",
   "version": "2.7.6"
  }
 },
 "nbformat": 4,
 "nbformat_minor": 0
}