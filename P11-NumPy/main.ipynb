{
 "cells": [
  {
   "cell_type": "code",
   "execution_count": 11,
   "metadata": {
    "collapsed": true
   },
   "outputs": [
    {
     "name": "stdout",
     "output_type": "stream",
     "text": [
      "[1, 217, 1335, 4105, 9277, 17601, 29827, 46705, 68985, 97417]\n",
      "[    1   217  1335  4105  9277 17601 29827 46705 68985 97417]\n"
     ]
    }
   ],
   "source": [
    "import numpy as np\n",
    "\n",
    "\n",
    "def multiply(n):\n",
    "    num2=list(range(n))\n",
    "    num1=list(range(1,5*n,5))\n",
    "    mul=[]\n",
    "    for i in range(len(num1)):\n",
    "        mul.append(num2[i]**2+num1[i]**3)\n",
    "    return mul\n",
    "print(multiply(10))\n",
    "\n",
    "\n",
    "# 等价于\n",
    "def pynum(n):\n",
    "    num2=np.arange(n)\n",
    "    num1=np.arange(1,5*n,5)\n",
    "    mul=num2**2+num1**3\n",
    "    return mul\n",
    "print(pynum(10))\n"
   ]
  },
  {
   "cell_type": "code",
   "execution_count": 1,
   "outputs": [
    {
     "name": "stdout",
     "output_type": "stream",
     "text": [
      "2021-07-07 20:04:47.303590\n"
     ]
    }
   ],
   "source": [
    "import datetime\n",
    "\n",
    "dt=datetime.datetime.now()\n",
    "print(dt)"
   ],
   "metadata": {
    "collapsed": false,
    "pycharm": {
     "name": "#%%\n"
    }
   }
  },
  {
   "cell_type": "code",
   "execution_count": 4,
   "outputs": [
    {
     "name": "stdout",
     "output_type": "stream",
     "text": [
      "整数转化为64位浮点数 23.0\n",
      "True\n"
     ]
    }
   ],
   "source": [
    "import numpy as np\n",
    "a=np.float64(23)\n",
    "print('整数转化为64位浮点数',a)\n",
    "\n",
    "c=np.bool(2)\n",
    "print(c)"
   ],
   "metadata": {
    "collapsed": false,
    "pycharm": {
     "name": "#%%\n"
    }
   }
  },
  {
   "cell_type": "markdown",
   "source": [
    "并不是所有的NumPy数据类型都可以直接进行转换。例如复数数据类型不能转换成其他类型。\n",
    "\n",
    "通过dtype参数值显示控制生成数据的数据类型"
   ],
   "metadata": {
    "collapsed": false,
    "pycharm": {
     "name": "#%% md\n"
    }
   }
  },
  {
   "cell_type": "code",
   "execution_count": 7,
   "outputs": [
    {
     "name": "stdout",
     "output_type": "stream",
     "text": [
      "[0. 1. 2.]\n",
      "<class 'numpy.float32'>\n"
     ]
    }
   ],
   "source": [
    "a=np.arange(3,dtype=np.float32)\n",
    "print(a)\n",
    "print(type(a[0]))"
   ],
   "metadata": {
    "collapsed": false,
    "pycharm": {
     "name": "#%%\n"
    }
   }
  },
  {
   "cell_type": "markdown",
   "source": [
    "最常用的是使用array方法从常规的Python列表或元组直接创造数组\n"
   ],
   "metadata": {
    "collapsed": false,
    "pycharm": {
     "name": "#%% md\n"
    }
   }
  },
  {
   "cell_type": "code",
   "execution_count": 11,
   "outputs": [
    {
     "name": "stdout",
     "output_type": "stream",
     "text": [
      "[2 3 4]\n",
      "<class 'numpy.ndarray'>\n",
      "int32\n"
     ]
    }
   ],
   "source": [
    "a=np.array([2,3,4])\n",
    "print(a)\n",
    "print(type(a))\n",
    "print(a.dtype)"
   ],
   "metadata": {
    "collapsed": false,
    "pycharm": {
     "name": "#%%\n"
    }
   }
  },
  {
   "cell_type": "code",
   "execution_count": 14,
   "outputs": [
    {
     "name": "stdout",
     "output_type": "stream",
     "text": [
      "[[1.+0.j 2.+0.j]\n",
      " [3.+0.j 4.+0.j]]\n"
     ]
    }
   ],
   "source": [
    "c=np.array([[1,2],[3,4]],dtype=complex)\n",
    "print(c)"
   ],
   "metadata": {
    "collapsed": false,
    "pycharm": {
     "name": "#%%\n"
    }
   }
  },
  {
   "cell_type": "code",
   "execution_count": 17,
   "outputs": [
    {
     "name": "stdout",
     "output_type": "stream",
     "text": [
      "[[0. 0. 0. 0.]\n",
      " [0. 0. 0. 0.]\n",
      " [0. 0. 0. 0.]]\n",
      "[[[1 1 1 1]\n",
      "  [1 1 1 1]\n",
      "  [1 1 1 1]]\n",
      "\n",
      " [[1 1 1 1]\n",
      "  [1 1 1 1]\n",
      "  [1 1 1 1]]]\n",
      "[[1527090704        384]\n",
      " [         0          0]\n",
      " [   3997795         97]]\n"
     ]
    }
   ],
   "source": [
    "import numpy as np\n",
    "x = np.zeros((3, 4))  #创建元素全为0的多维数组\n",
    "print (x)\n",
    "y = np.ones( (2, 3, 4), dtype=int)  #创建元素全为1的多维数组\n",
    "print (y)\n",
    "z = np.empty((3, 2), dtype = int)  #创建元素全未初始化的多维数组\n",
    "print (z)"
   ],
   "metadata": {
    "collapsed": false,
    "pycharm": {
     "name": "#%%\n"
    }
   }
  },
  {
   "cell_type": "code",
   "execution_count": 29,
   "outputs": [
    {
     "name": "stdout",
     "output_type": "stream",
     "text": [
      "1\n",
      "3\n"
     ]
    }
   ],
   "source": [
    "a=np.arange(24)\n",
    "print(a.ndim)\n",
    "b=a.reshape(2,4,3)\n",
    "print(b.ndim)"
   ],
   "metadata": {
    "collapsed": false,
    "pycharm": {
     "name": "#%%\n"
    }
   }
  },
  {
   "cell_type": "code",
   "execution_count": 32,
   "outputs": [
    {
     "name": "stdout",
     "output_type": "stream",
     "text": [
      "[0 1 2 3 4 5 6 7 8 9]\n",
      "[3 4 5]\n",
      "[0 2 4 6]\n"
     ]
    }
   ],
   "source": [
    "a=np.arange(10)\n",
    "print(a)\n",
    "print(a[3:6]) # 切片操作\n",
    "\n",
    "print(a[:7:2]) # 按一定的步数(2步)切片"
   ],
   "metadata": {
    "collapsed": false,
    "pycharm": {
     "name": "#%%\n"
    }
   }
  },
  {
   "cell_type": "code",
   "execution_count": 39,
   "outputs": [
    {
     "name": "stdout",
     "output_type": "stream",
     "text": [
      "[0 1 2 3 4 5]\n",
      "b= [[ 0  1  2  3]\n",
      " [ 4  5  6  7]\n",
      " [ 8  9 10 11]]\n",
      "c= [[[ 0  1  2  3]\n",
      "  [ 4  5  6  7]\n",
      "  [ 8  9 10 11]]\n",
      "\n",
      " [[12 13 14 15]\n",
      "  [16 17 18 19]\n",
      "  [20 21 22 23]]]\n"
     ]
    }
   ],
   "source": [
    "a=np.arange(6)\n",
    "print(a)\n",
    "b=np.arange(12).reshape(3,4)\n",
    "print(\"b=\",b)\n",
    "c=np.arange(24).reshape(2,3,4)\n",
    "print(\"c=\",c)"
   ],
   "metadata": {
    "collapsed": false,
    "pycharm": {
     "name": "#%%\n"
    }
   }
  },
  {
   "cell_type": "code",
   "execution_count": 45,
   "outputs": [
    {
     "name": "stdout",
     "output_type": "stream",
     "text": [
      "[[8. 0. 8. 3.]\n",
      " [1. 6. 4. 9.]\n",
      " [2. 0. 7. 7.]]\n",
      "(3, 4)\n"
     ]
    }
   ],
   "source": [
    "a=np.floor(10*np.random.random((3,4)))\n",
    "print(a)\n",
    "print(a.shape)"
   ],
   "metadata": {
    "collapsed": false,
    "pycharm": {
     "name": "#%%\n"
    }
   }
  },
  {
   "cell_type": "code",
   "execution_count": 54,
   "outputs": [
    {
     "name": "stdout",
     "output_type": "stream",
     "text": [
      "[[9. 1. 4. 8.]\n",
      " [7. 0. 7. 0.]\n",
      " [4. 3. 6. 8.]]\n",
      "(12,)\n",
      "b= [9. 1. 4. 8. 7. 0. 7. 0. 4. 3. 6. 8.]\n",
      "[[9. 1.]\n",
      " [4. 8.]\n",
      " [7. 0.]\n",
      " [7. 0.]\n",
      " [4. 3.]\n",
      " [6. 8.]]\n",
      "[[9. 7. 4.]\n",
      " [1. 0. 3.]\n",
      " [4. 7. 6.]\n",
      " [8. 0. 8.]]\n"
     ]
    }
   ],
   "source": [
    "a=np.floor(10*np.random.random((3,4)))\n",
    "print(a)\n",
    "b=a.ravel()\n",
    "print(b.shape) # 转成一维数组\n",
    "print(\"b=\",b)\n",
    "\n",
    "print(a.reshape(6,2))\n",
    "print(a.T) # 转置"
   ],
   "metadata": {
    "collapsed": false,
    "pycharm": {
     "name": "#%%\n"
    }
   }
  },
  {
   "cell_type": "code",
   "execution_count": 61,
   "outputs": [
    {
     "name": "stdout",
     "output_type": "stream",
     "text": [
      "[[8. 2. 0. 9.]\n",
      " [9. 1. 2. 6.]\n",
      " [4. 6. 8. 2.]]\n",
      "[[8. 2. 0. 9. 9. 1.]\n",
      " [2. 6. 4. 6. 8. 2.]]\n"
     ]
    }
   ],
   "source": [
    "a=np.floor(10*np.random.random((3,4)))\n",
    "print(a)\n",
    "a.resize(2,6)\n",
    "print(a)"
   ],
   "metadata": {
    "collapsed": false,
    "pycharm": {
     "name": "#%%\n"
    }
   }
  },
  {
   "cell_type": "markdown",
   "source": [
    "改变数组形状的任一维度参数为-1时，数组维度会被自动计算。\n",
    "\n"
   ],
   "metadata": {
    "collapsed": false,
    "pycharm": {
     "name": "#%% md\n"
    }
   }
  },
  {
   "cell_type": "code",
   "execution_count": 77,
   "outputs": [
    {
     "name": "stdout",
     "output_type": "stream",
     "text": [
      "[[9. 0. 2.]\n",
      " [1. 6. 1.]\n",
      " [5. 8. 4.]\n",
      " [4. 6. 8.]]\n"
     ]
    }
   ],
   "source": [
    "a=np.floor(10*np.random.random((3,4)))\n",
    "print(a.reshape(4,-1))"
   ],
   "metadata": {
    "collapsed": false,
    "pycharm": {
     "name": "#%%\n"
    }
   }
  },
  {
   "cell_type": "markdown",
   "source": [
    "不同方向的数组组合方法，分别是水平组合、垂直组合、深度组合"
   ],
   "metadata": {
    "collapsed": false,
    "pycharm": {
     "name": "#%% md\n"
    }
   }
  },
  {
   "cell_type": "code",
   "execution_count": 81,
   "outputs": [
    {
     "name": "stdout",
     "output_type": "stream",
     "text": [
      "a= [[0 1 2]\n",
      " [3 4 5]\n",
      " [6 7 8]]\n",
      "b= [[ 0  2  4]\n",
      " [ 6  8 10]\n",
      " [12 14 16]]\n",
      "水平组合 [[ 0  1  2  0  2  4]\n",
      " [ 3  4  5  6  8 10]\n",
      " [ 6  7  8 12 14 16]]\n",
      "水平组合 [[ 0  1  2  0  2  4]\n",
      " [ 3  4  5  6  8 10]\n",
      " [ 6  7  8 12 14 16]]\n",
      "垂直组合 [[ 0  1  2]\n",
      " [ 3  4  5]\n",
      " [ 6  7  8]\n",
      " [ 0  2  4]\n",
      " [ 6  8 10]\n",
      " [12 14 16]]\n",
      "垂直组合 [[ 0  1  2]\n",
      " [ 3  4  5]\n",
      " [ 6  7  8]\n",
      " [ 0  2  4]\n",
      " [ 6  8 10]\n",
      " [12 14 16]]\n",
      "深度组合 [[[ 0  0]\n",
      "  [ 1  2]\n",
      "  [ 2  4]]\n",
      "\n",
      " [[ 3  6]\n",
      "  [ 4  8]\n",
      "  [ 5 10]]\n",
      "\n",
      " [[ 6 12]\n",
      "  [ 7 14]\n",
      "  [ 8 16]]]\n"
     ]
    }
   ],
   "source": [
    "a=np.arange(9).reshape(3,3)\n",
    "b=a*2\n",
    "print(\"a=\",a)\n",
    "print(\"b=\",b)\n",
    "print(\"水平组合\",np.hstack((a,b)))\n",
    "print(\"水平组合\",np.concatenate((a,b),axis=1))\n",
    "\n",
    "print(\"垂直组合\",np.vstack((a,b)))\n",
    "print(\"垂直组合\",np.concatenate((a,b),axis=0))\n",
    "\n",
    "print(\"深度组合\",np.dstack((a,b)))"
   ],
   "metadata": {
    "collapsed": false,
    "pycharm": {
     "name": "#%%\n"
    }
   }
  },
  {
   "cell_type": "code",
   "execution_count": 83,
   "outputs": [
    {
     "name": "stdout",
     "output_type": "stream",
     "text": [
      "[[[ 0  0]\n",
      "  [ 1  2]\n",
      "  [ 2  4]]\n",
      "\n",
      " [[ 3  6]\n",
      "  [ 4  8]\n",
      "  [ 5 10]]\n",
      "\n",
      " [[ 6 12]\n",
      "  [ 7 14]\n",
      "  [ 8 16]]]\n"
     ]
    }
   ],
   "source": [
    "a = np.arange(9).reshape(3, 3)  # 创建一些数组\n",
    "b = 2 * a\n",
    "a1=a.reshape(3,3,1)\n",
    "b1=b.reshape(3,3,1)\n",
    "print(np.concatenate((a1,b1),axis=2))"
   ],
   "metadata": {
    "collapsed": false,
    "pycharm": {
     "name": "#%%\n"
    }
   }
  },
  {
   "cell_type": "markdown",
   "source": [
    "# NumPy矩阵基础\n",
    "\n",
    "## 广播机制"
   ],
   "metadata": {
    "collapsed": false,
    "pycharm": {
     "name": "#%% md\n"
    }
   }
  },
  {
   "cell_type": "code",
   "execution_count": 4,
   "outputs": [
    {
     "name": "stdout",
     "output_type": "stream",
     "text": [
      "[[ 9.526 -2.46  -8.856]\n",
      " [ 5.639  2.379  9.104]]\n"
     ]
    }
   ],
   "source": [
    "import numpy as np\n",
    "a=np.array(([[ 0.9526, -0.246 , -0.8856],\n",
    "           [ 0.5639, 0.2379, 0.9104]]))\n",
    "print(a*10)"
   ],
   "metadata": {
    "collapsed": false,
    "pycharm": {
     "name": "#%%\n"
    }
   }
  },
  {
   "cell_type": "markdown",
   "source": [
    "## 矩阵对象\n",
    "matrix是Ndarray的分支，所以matrix和Ndarray在很多时候都是通用的。\n",
    "\n",
    "matrix的优势就是相对简单的运算符号，如矩阵相乘用符号*，但是Ndarray相乘得用方法.dot()"
   ],
   "metadata": {
    "collapsed": false,
    "pycharm": {
     "name": "#%% md\n"
    }
   }
  },
  {
   "cell_type": "code",
   "execution_count": 8,
   "outputs": [
    {
     "name": "stdout",
     "output_type": "stream",
     "text": [
      "[[1 2 3]\n",
      " [4 5 6]\n",
      " [7 8 9]]\n",
      "[[1 4 7]\n",
      " [2 5 8]\n",
      " [3 6 9]]\n"
     ]
    }
   ],
   "source": [
    "A=np.matrix('1 2 3;4 5 6;7 8 9')\n",
    "print(A)\n",
    "\n",
    "print(A.T) # A的转置"
   ],
   "metadata": {
    "collapsed": false,
    "pycharm": {
     "name": "#%%\n"
    }
   }
  },
  {
   "cell_type": "code",
   "execution_count": 11,
   "outputs": [
    {
     "name": "stdout",
     "output_type": "stream",
     "text": [
      "[[1.42884535 2.95927132 3.57128946]\n",
      " [4.69344932 5.20664037 6.05182638]\n",
      " [7.16916443 8.26231695 9.66419025]]\n",
      "[[ -1.57783658  -4.53668051   3.4239924 ]\n",
      " [  9.85025084  58.91885069 -40.53570367]\n",
      " [ -7.25090492 -47.00673296  32.21911604]]\n"
     ]
    }
   ],
   "source": [
    "A=np.matrix('1 2 3;4 5 6;7 8 9')+np.random.random((3,3))\n",
    "print(A)\n",
    "print(A.I) # A得逆矩阵"
   ],
   "metadata": {
    "collapsed": false,
    "pycharm": {
     "name": "#%%\n"
    }
   }
  },
  {
   "cell_type": "markdown",
   "source": [
    "# NumPy方法进阶\n",
    "常用的文件读写和算数运算两种方法。\n"
   ],
   "metadata": {
    "collapsed": false,
    "pycharm": {
     "name": "#%% md\n"
    }
   }
  },
  {
   "cell_type": "code",
   "execution_count": 13,
   "outputs": [
    {
     "name": "stdout",
     "output_type": "stream",
     "text": [
      "[[ 0  1  2  3]\n",
      " [ 4  5  6  7]\n",
      " [ 8  9 10 11]]\n",
      "[[ 0  1  2  3]\n",
      " [ 4  5  6  7]\n",
      " [ 8  9 10 11]]\n"
     ]
    }
   ],
   "source": [
    "a=np.arange(0,12)\n",
    "a=a.reshape(3,4)\n",
    "print(a)\n",
    "np.save('a.npy',a)\n",
    "c=np.load('a.npy')\n",
    "print(c)"
   ],
   "metadata": {
    "collapsed": false,
    "pycharm": {
     "name": "#%%\n"
    }
   }
  },
  {
   "cell_type": "markdown",
   "source": [
    "savetxt和loadtxt两个方法专用存取csv文件\n"
   ],
   "metadata": {
    "collapsed": false,
    "pycharm": {
     "name": "#%% md\n"
    }
   }
  },
  {
   "cell_type": "code",
   "execution_count": 15,
   "outputs": [
    {
     "name": "stdout",
     "output_type": "stream",
     "text": [
      "[[ 0.  1.  2.  3.]\n",
      " [ 4.  5.  6.  7.]\n",
      " [ 8.  9. 10. 11.]]\n"
     ]
    }
   ],
   "source": [
    "a=np.arange(0,12)\n",
    "a=a.reshape(3,4)\n",
    "np.savetxt('a.txt',a)\n",
    "c=np.loadtxt('a.txt')\n",
    "print(c)\n"
   ],
   "metadata": {
    "collapsed": false,
    "pycharm": {
     "name": "#%%\n"
    }
   }
  },
  {
   "cell_type": "code",
   "execution_count": 16,
   "outputs": [
    {
     "name": "stdout",
     "output_type": "stream",
     "text": [
      "a= [[2 7 5]\n",
      " [2 4 3]\n",
      " [2 4 6]]\n",
      "5\n",
      "[5 2 4]\n",
      "[0 3 3]\n"
     ]
    }
   ],
   "source": [
    "a=np.array([[2,7,5],[2,4,3],[2,4,6]])\n",
    "print(\"a=\",a)\n",
    "print(np.ptp(a)) # 整个多维数组的最大最小之差\n",
    "print(np.ptp(a,axis=1)) # 每行的最大最小之差\n",
    "print(np.ptp(a,axis=0)) # 每列的最大最小之差"
   ],
   "metadata": {
    "collapsed": false,
    "pycharm": {
     "name": "#%%\n"
    }
   }
  }
 ],
 "metadata": {
  "kernelspec": {
   "display_name": "Python 3",
   "language": "python",
   "name": "python3"
  },
  "language_info": {
   "codemirror_mode": {
    "name": "ipython",
    "version": 2
   },
   "file_extension": ".py",
   "mimetype": "text/x-python",
   "name": "python",
   "nbconvert_exporter": "python",
   "pygments_lexer": "ipython2",
   "version": "2.7.6"
  }
 },
 "nbformat": 4,
 "nbformat_minor": 0
}